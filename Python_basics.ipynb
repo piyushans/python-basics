{
  "nbformat": 4,
  "nbformat_minor": 0,
  "metadata": {
    "colab": {
      "provenance": []
    },
    "kernelspec": {
      "name": "python3",
      "display_name": "Python 3"
    },
    "language_info": {
      "name": "python"
    }
  },
  "cells": [
    {
      "cell_type": "markdown",
      "source": [
        "1. What is Python, and why is it popular?\n",
        "   - Python is a formal programming language for creating instructions for the computer to follow. It includes set of rules and symbols that define the process of writing computer programmes. The python is popular cause of it's vast and easy industry usage. Has lot of liabraries and most easy language to intrect with the computers.\n",
        "\n",
        "2. What is an interpreter in Python?\n",
        "   - A interpreter is a computer program that converts or translates the python code to the machine code so that computer can understands it and executes it.\n",
        "\n",
        "3. What are pre-defined keywords in Python?\n",
        "   - Pre-defined keywords are pre-defined words that are not to be used as any other type of identifiers. These keywords are the part of the syntax in the python language which has a special meaning associated with them.  \n",
        "\n",
        "4. Can keywords be used as variable names?\n",
        "   - Keywords cannot be used as variable names because keywords ahve the special meaning in the programing language and are reserved for specific purposes in the python language.\n",
        "\n",
        "5. What is mutability in Python?\n",
        "   - It is the ability of an object to be changed after it is created. The object is considered mutable if its state or value can be modified after it has been created.\n",
        "\n",
        "6. Why are lists mutable, but tuples are immutable?\n",
        "   - Tuples use parentheses instead of square brackets therefore the items in tuples cannot be modified but the items in lists can be modified. We can call lists as mutable and tuples immutable.\n",
        "\n",
        "7. What is the difference between “==” and “is” operators in Python?\n",
        "   - Both operators are used for comparisons. == compares the equality of the objects while is compares the identity of objects.\n",
        "\n",
        "8. What are logical operators in Python?\n",
        "   - there are 3 types of logical operators:\n",
        "     and\n",
        "     or\n",
        "     not\n",
        "\n",
        "9. What is type casting in Python?\n",
        "   - Typecasting in programming allows programmers to convert variable or data from one data type to another.\n",
        "\n",
        "10. What is the difference between implicit and explicit type casting?\n",
        "    - Implicit: Implicit type casting is when the compiler automatically converts a value from smaller type to a larger type size.\n",
        "      Explicit: Explicit type casting is when  the programmer manually changes the data type of a value.\n",
        "\n",
        "11. What is the purpose of conditional statements in Python?\n",
        "    - Conditional statements allows you to make decision based on some condition or result of comparisons. Conditional statements helps the programmer to get the desired output from the framed conditions.\n",
        "\n",
        "12. How does the elif statement work?\n",
        "    - Elif if the short name of else if and it is used when the first if statement is not true and you wanted to check the rest of the conditions of the coding program.\n",
        "\n",
        "13. What is the difference between for and while loops?\n",
        "    - For loop is used when the number of iterations is known, whereas execution is done in a while loop until the statement in the program is proved wrong.\n",
        "\n",
        "14. Describe a scenario where a while loop is more suitable than a for loop.\n",
        "    -\n",
        "\n",
        "\n",
        "# Practical Questions\n",
        "\n",
        "1. Write a Python program to print \"Hello, World!\""
      ],
      "metadata": {
        "id": "kNw2uFPZdr5v"
      }
    },
    {
      "cell_type": "code",
      "execution_count": null,
      "metadata": {
        "colab": {
          "base_uri": "https://localhost:8080/"
        },
        "id": "cl87o-rRdpOp",
        "outputId": "3005f5cf-d9ee-4e76-dc5d-4dd32efb80b0"
      },
      "outputs": [
        {
          "output_type": "stream",
          "name": "stdout",
          "text": [
            "Hello, World!\n"
          ]
        }
      ],
      "source": [
        "print(\"Hello, World!\")"
      ]
    },
    {
      "cell_type": "markdown",
      "source": [
        "2. Write a Python program that displays your name and age?\n",
        "\n"
      ],
      "metadata": {
        "id": "uRArYCEVvLQ_"
      }
    },
    {
      "cell_type": "code",
      "source": [
        "name = input(\"Your name: \")\n",
        "age = input(\"Enter age: \")\n",
        "print(\"Hi my name is \" + name + \". I am \" + age + \" years old!\")"
      ],
      "metadata": {
        "colab": {
          "base_uri": "https://localhost:8080/"
        },
        "id": "ourU3gVCvBzQ",
        "outputId": "67f617d5-7564-47cc-e583-6d93f490bbcc"
      },
      "execution_count": null,
      "outputs": [
        {
          "output_type": "stream",
          "name": "stdout",
          "text": [
            "Your name: Piyush Kaul\n",
            "Enter age: 23\n",
            "Hi my name is Piyush Kaul. I am 23 years old!\n"
          ]
        }
      ]
    },
    {
      "cell_type": "markdown",
      "source": [
        "3. Write code to print all the pre-defined keywords in Python using the keyword library?"
      ],
      "metadata": {
        "id": "WiYpnxCBxW5d"
      }
    },
    {
      "cell_type": "code",
      "source": [
        "help('keywords')"
      ],
      "metadata": {
        "colab": {
          "base_uri": "https://localhost:8080/"
        },
        "id": "KK8d06Ldw7ZP",
        "outputId": "633790d8-7d25-400c-f013-da331ee66358"
      },
      "execution_count": null,
      "outputs": [
        {
          "output_type": "stream",
          "name": "stdout",
          "text": [
            "\n",
            "Here is a list of the Python keywords.  Enter any keyword to get more help.\n",
            "\n",
            "False               class               from                or\n",
            "None                continue            global              pass\n",
            "True                def                 if                  raise\n",
            "and                 del                 import              return\n",
            "as                  elif                in                  try\n",
            "assert              else                is                  while\n",
            "async               except              lambda              with\n",
            "await               finally             nonlocal            yield\n",
            "break               for                 not                 \n",
            "\n"
          ]
        }
      ]
    },
    {
      "cell_type": "markdown",
      "source": [
        "4. Write a program that checks if a given word is a Python keyword?"
      ],
      "metadata": {
        "id": "DmRrfa0h06Jr"
      }
    },
    {
      "cell_type": "markdown",
      "source": [
        "5. Create a list and tuple in Python, and demonstrate how attempting to change an element works differently for each?\n",
        "\n",
        "---\n",
        "\n"
      ],
      "metadata": {
        "id": "Vau8Qkc619GK"
      }
    },
    {
      "cell_type": "code",
      "source": [
        "_list = [13, 28, 45, 37, 93, 85, 62] ## created a list and define the elements of list\n",
        "_list[3]"
      ],
      "metadata": {
        "id": "aoiZIK7NJxTd",
        "colab": {
          "base_uri": "https://localhost:8080/"
        },
        "outputId": "39752fce-2a46-4723-a84b-8ac8b4cbea7e"
      },
      "execution_count": 2,
      "outputs": [
        {
          "output_type": "execute_result",
          "data": {
            "text/plain": [
              "37"
            ]
          },
          "metadata": {},
          "execution_count": 2
        }
      ]
    },
    {
      "cell_type": "code",
      "source": [
        "_list[3] = \"Changing list\"\n",
        "_list ## the value of lists are mutable"
      ],
      "metadata": {
        "colab": {
          "base_uri": "https://localhost:8080/"
        },
        "id": "GXzYKPqClgau",
        "outputId": "c9fe8c48-718e-464f-c41c-cdc5883edb71"
      },
      "execution_count": 7,
      "outputs": [
        {
          "output_type": "execute_result",
          "data": {
            "text/plain": [
              "[13, 28, 45, 'Changing list', 93, 85, 62]"
            ]
          },
          "metadata": {},
          "execution_count": 7
        }
      ]
    },
    {
      "cell_type": "code",
      "source": [
        "_tuple = (13, 28, 45, 37, 93, 85, 62) ## created tuple and define the elements of tuple\n",
        "_tuple[3]"
      ],
      "metadata": {
        "colab": {
          "base_uri": "https://localhost:8080/"
        },
        "id": "BHhpUQamn5Zu",
        "outputId": "3169979c-2f8b-4019-d97d-d0d945b1648a"
      },
      "execution_count": 6,
      "outputs": [
        {
          "output_type": "execute_result",
          "data": {
            "text/plain": [
              "37"
            ]
          },
          "metadata": {},
          "execution_count": 6
        }
      ]
    },
    {
      "cell_type": "code",
      "source": [
        "_tuple[3] = \"Changing tuple\"\n",
        "_tuple ## the value of tuple is immutable that's why it shows error"
      ],
      "metadata": {
        "colab": {
          "base_uri": "https://localhost:8080/",
          "height": 159
        },
        "id": "OyxmM1sroZAW",
        "outputId": "697cb447-86cd-418a-e4ab-6bc3f94e6345"
      },
      "execution_count": 8,
      "outputs": [
        {
          "output_type": "error",
          "ename": "TypeError",
          "evalue": "'tuple' object does not support item assignment",
          "traceback": [
            "\u001b[0;31m---------------------------------------------------------------------------\u001b[0m",
            "\u001b[0;31mTypeError\u001b[0m                                 Traceback (most recent call last)",
            "\u001b[0;32m<ipython-input-8-abfa18b5c016>\u001b[0m in \u001b[0;36m<cell line: 1>\u001b[0;34m()\u001b[0m\n\u001b[0;32m----> 1\u001b[0;31m \u001b[0m_tuple\u001b[0m\u001b[0;34m[\u001b[0m\u001b[0;36m3\u001b[0m\u001b[0;34m]\u001b[0m \u001b[0;34m=\u001b[0m \u001b[0;34m\"Changing tuple\"\u001b[0m\u001b[0;34m\u001b[0m\u001b[0;34m\u001b[0m\u001b[0m\n\u001b[0m\u001b[1;32m      2\u001b[0m \u001b[0m_tuple\u001b[0m \u001b[0;31m## the value of tuple is immutable\u001b[0m\u001b[0;34m\u001b[0m\u001b[0;34m\u001b[0m\u001b[0m\n",
            "\u001b[0;31mTypeError\u001b[0m: 'tuple' object does not support item assignment"
          ]
        }
      ]
    },
    {
      "cell_type": "markdown",
      "source": [
        "6. Write a function to demonstrate the behavior of mutable and immutable arguments?"
      ],
      "metadata": {
        "id": "PJ6grHUYpOmm"
      }
    },
    {
      "cell_type": "code",
      "source": [
        "## Lists are mutable and strings are immutable\n",
        "list = [1, 2, 3, 4, 5, 6]\n",
        "list"
      ],
      "metadata": {
        "colab": {
          "base_uri": "https://localhost:8080/"
        },
        "id": "dKVT0fj0pOSY",
        "outputId": "2f921671-5c03-4a71-aed2-1db23c18c9b6"
      },
      "execution_count": 10,
      "outputs": [
        {
          "output_type": "execute_result",
          "data": {
            "text/plain": [
              "[1, 2, 3, 4, 5, 6]"
            ]
          },
          "metadata": {},
          "execution_count": 10
        }
      ]
    },
    {
      "cell_type": "code",
      "source": [
        "list [2] = 8\n",
        "list"
      ],
      "metadata": {
        "colab": {
          "base_uri": "https://localhost:8080/"
        },
        "id": "RWq1Kt_cqCH2",
        "outputId": "c9b9fbbc-5c29-4b51-d6ec-6f93ac749bdc"
      },
      "execution_count": 12,
      "outputs": [
        {
          "output_type": "execute_result",
          "data": {
            "text/plain": [
              "[1, 2, 8, 4, 5, 6]"
            ]
          },
          "metadata": {},
          "execution_count": 12
        }
      ]
    },
    {
      "cell_type": "code",
      "source": [
        "## strings are immutabole so it cannot be changed once assigned\n",
        "string = \"I am string and i am immutable\"\n",
        "string"
      ],
      "metadata": {
        "colab": {
          "base_uri": "https://localhost:8080/",
          "height": 35
        },
        "id": "Jg76Cp1cqJMa",
        "outputId": "cf8c03b6-961e-4ec0-b6de-f58417b074a3"
      },
      "execution_count": 14,
      "outputs": [
        {
          "output_type": "execute_result",
          "data": {
            "text/plain": [
              "'I am string and i am immutable'"
            ],
            "application/vnd.google.colaboratory.intrinsic+json": {
              "type": "string"
            }
          },
          "metadata": {},
          "execution_count": 14
        }
      ]
    },
    {
      "cell_type": "code",
      "source": [
        "string[2:4]"
      ],
      "metadata": {
        "colab": {
          "base_uri": "https://localhost:8080/",
          "height": 35
        },
        "id": "3JKhtzxdqTMR",
        "outputId": "7a71d93d-8ca4-4f2a-abfe-1b2f7c370a66"
      },
      "execution_count": 20,
      "outputs": [
        {
          "output_type": "execute_result",
          "data": {
            "text/plain": [
              "'am'"
            ],
            "application/vnd.google.colaboratory.intrinsic+json": {
              "type": "string"
            }
          },
          "metadata": {},
          "execution_count": 20
        }
      ]
    },
    {
      "cell_type": "code",
      "source": [
        "string[2:4] = \"can\""
      ],
      "metadata": {
        "colab": {
          "base_uri": "https://localhost:8080/",
          "height": 141
        },
        "id": "diX7xCnFqW8O",
        "outputId": "5fcf63be-89f2-4ab2-9b73-12d4bb85c37a"
      },
      "execution_count": 21,
      "outputs": [
        {
          "output_type": "error",
          "ename": "TypeError",
          "evalue": "'str' object does not support item assignment",
          "traceback": [
            "\u001b[0;31m---------------------------------------------------------------------------\u001b[0m",
            "\u001b[0;31mTypeError\u001b[0m                                 Traceback (most recent call last)",
            "\u001b[0;32m<ipython-input-21-6656573ca055>\u001b[0m in \u001b[0;36m<cell line: 1>\u001b[0;34m()\u001b[0m\n\u001b[0;32m----> 1\u001b[0;31m \u001b[0mstring\u001b[0m\u001b[0;34m[\u001b[0m\u001b[0;36m2\u001b[0m\u001b[0;34m:\u001b[0m\u001b[0;36m4\u001b[0m\u001b[0;34m]\u001b[0m \u001b[0;34m=\u001b[0m \u001b[0;34m\"can\"\u001b[0m\u001b[0;34m\u001b[0m\u001b[0;34m\u001b[0m\u001b[0m\n\u001b[0m",
            "\u001b[0;31mTypeError\u001b[0m: 'str' object does not support item assignment"
          ]
        }
      ]
    },
    {
      "cell_type": "markdown",
      "source": [
        "7. Write a function to demonstrate the behavior of mutable and immutable arguments?\n",
        "\n",
        "Same as above question"
      ],
      "metadata": {
        "id": "xZMfz-beq7zv"
      }
    },
    {
      "cell_type": "markdown",
      "source": [
        "8. Write a program to demonstrate the use of logical operators?\n"
      ],
      "metadata": {
        "id": "B68h7kC6rM4R"
      }
    },
    {
      "cell_type": "code",
      "source": [
        "## Using and logical operator\n",
        "a = 10\n",
        "if a > 9 and a >= 10:\n",
        "  print (\"A is greater than 10\")"
      ],
      "metadata": {
        "colab": {
          "base_uri": "https://localhost:8080/"
        },
        "id": "5ucS_E4eqxme",
        "outputId": "a1472796-3a9f-415a-9503-e78672614d53"
      },
      "execution_count": 26,
      "outputs": [
        {
          "output_type": "stream",
          "name": "stdout",
          "text": [
            "A is greater than 10\n"
          ]
        }
      ]
    },
    {
      "cell_type": "code",
      "source": [
        "## Using OR logical operator\n",
        "a = 10\n",
        "if a > 9 or a >=10:\n",
        "  print (\"Any one condition in true\")"
      ],
      "metadata": {
        "colab": {
          "base_uri": "https://localhost:8080/"
        },
        "id": "_PbCXyhUsjs4",
        "outputId": "c60ac0d2-68c9-48b5-e9f8-720c075850a5"
      },
      "execution_count": 28,
      "outputs": [
        {
          "output_type": "stream",
          "name": "stdout",
          "text": [
            "Any one condition in true\n"
          ]
        }
      ]
    },
    {
      "cell_type": "markdown",
      "source": [
        "9. Write a Python program to convert user input from string to integer, float, and boolean types?"
      ],
      "metadata": {
        "id": "Ij2rVBXguPuo"
      }
    },
    {
      "cell_type": "code",
      "source": [
        "a = input(\"Enter value:\")\n",
        "print(a)\n",
        "type(a)\n",
        "int_value = int(a)"
      ],
      "metadata": {
        "colab": {
          "base_uri": "https://localhost:8080/",
          "height": 211
        },
        "id": "h7gqr1jRtIif",
        "outputId": "89934b6c-a909-408a-9bbf-5af462e6b00e"
      },
      "execution_count": 51,
      "outputs": [
        {
          "output_type": "stream",
          "name": "stdout",
          "text": [
            "Enter value:Piyush\n",
            "Piyush\n"
          ]
        },
        {
          "output_type": "error",
          "ename": "ValueError",
          "evalue": "invalid literal for int() with base 10: 'Piyush'",
          "traceback": [
            "\u001b[0;31m---------------------------------------------------------------------------\u001b[0m",
            "\u001b[0;31mValueError\u001b[0m                                Traceback (most recent call last)",
            "\u001b[0;32m<ipython-input-51-244a74f81d9b>\u001b[0m in \u001b[0;36m<cell line: 4>\u001b[0;34m()\u001b[0m\n\u001b[1;32m      2\u001b[0m \u001b[0mprint\u001b[0m\u001b[0;34m(\u001b[0m\u001b[0ma\u001b[0m\u001b[0;34m)\u001b[0m\u001b[0;34m\u001b[0m\u001b[0;34m\u001b[0m\u001b[0m\n\u001b[1;32m      3\u001b[0m \u001b[0mtype\u001b[0m\u001b[0;34m(\u001b[0m\u001b[0ma\u001b[0m\u001b[0;34m)\u001b[0m\u001b[0;34m\u001b[0m\u001b[0;34m\u001b[0m\u001b[0m\n\u001b[0;32m----> 4\u001b[0;31m \u001b[0mint_value\u001b[0m \u001b[0;34m=\u001b[0m \u001b[0mint\u001b[0m\u001b[0;34m(\u001b[0m\u001b[0ma\u001b[0m\u001b[0;34m)\u001b[0m\u001b[0;34m\u001b[0m\u001b[0;34m\u001b[0m\u001b[0m\n\u001b[0m",
            "\u001b[0;31mValueError\u001b[0m: invalid literal for int() with base 10: 'Piyush'"
          ]
        }
      ]
    },
    {
      "cell_type": "markdown",
      "source": [
        "10. Write code to demonstrate type casting with list elements?\n"
      ],
      "metadata": {
        "id": "a4oQCVzwwqCY"
      }
    },
    {
      "cell_type": "code",
      "source": [
        "list"
      ],
      "metadata": {
        "id": "-sshxyoLwLxv"
      },
      "execution_count": null,
      "outputs": []
    },
    {
      "cell_type": "markdown",
      "source": [
        "11. Write a program that checks if a number is positive, negative, or zero?"
      ],
      "metadata": {
        "id": "TcyqAI8Z0FFz"
      }
    },
    {
      "cell_type": "code",
      "source": [
        "num = float(input(\"Enter a number: \"))\n",
        "if num > 0:\n",
        "  print(\"Positive number\")\n",
        "elif num == 0:\n",
        "    print(\"Entered no is zero\")\n",
        "else:\n",
        "      print(\"Negative number\")"
      ],
      "metadata": {
        "colab": {
          "base_uri": "https://localhost:8080/"
        },
        "id": "-eqhAcsn0ID0",
        "outputId": "2ee68709-e323-42fa-b577-6676fdeab736"
      },
      "execution_count": 63,
      "outputs": [
        {
          "output_type": "stream",
          "name": "stdout",
          "text": [
            "Enter a number: 4\n",
            "Positive number\n"
          ]
        }
      ]
    },
    {
      "cell_type": "markdown",
      "source": [
        "12. Write a for loop to print numbers from 1 to 10."
      ],
      "metadata": {
        "id": "OYHQEIAF2DOp"
      }
    },
    {
      "cell_type": "code",
      "source": [
        "for i in range (1, 11):\n",
        "  print(i)"
      ],
      "metadata": {
        "colab": {
          "base_uri": "https://localhost:8080/"
        },
        "id": "b0eRuplT2dtV",
        "outputId": "dbd8b26e-3024-499a-a099-0a347f3a52c5"
      },
      "execution_count": 64,
      "outputs": [
        {
          "output_type": "stream",
          "name": "stdout",
          "text": [
            "1\n",
            "2\n",
            "3\n",
            "4\n",
            "5\n",
            "6\n",
            "7\n",
            "8\n",
            "9\n",
            "10\n"
          ]
        }
      ]
    },
    {
      "cell_type": "markdown",
      "source": [
        "13. Write a Python program to find the sum of all even numbers between 1 and 50."
      ],
      "metadata": {
        "id": "TOAkAhhG49hs"
      }
    },
    {
      "cell_type": "code",
      "source": [
        "sum = 0\n",
        "for i in range(1, 51):\n",
        "  if i % 2 == 0:\n",
        "    print(i)\n",
        "    sum+=i\n",
        "    print(\"Sum of all even no is\")"
      ],
      "metadata": {
        "id": "TDj5vv2P2kb1"
      },
      "execution_count": null,
      "outputs": []
    },
    {
      "cell_type": "markdown",
      "source": [
        "14. Write a program to reverse a string using a while loop?"
      ],
      "metadata": {
        "id": "ugBVMnOE5hPM"
      }
    },
    {
      "cell_type": "code",
      "source": [
        "name= str((input(\"Enter the name: \")))\n",
        "i = len(name) - 1\n",
        "\n",
        "while i >= 0:\n",
        "    print(name[i], end = '')\n",
        "    i = i - 1"
      ],
      "metadata": {
        "colab": {
          "base_uri": "https://localhost:8080/"
        },
        "id": "iVGlC7oL4SAN",
        "outputId": "acd6cfa6-1ef7-49e2-b6af-febd30d1fd2e"
      },
      "execution_count": 72,
      "outputs": [
        {
          "output_type": "stream",
          "name": "stdout",
          "text": [
            "Enter the name: Piyush\n",
            "hsuyiP"
          ]
        }
      ]
    },
    {
      "cell_type": "markdown",
      "source": [
        "15. Write a Python program to calculate the factorial of a number provided by the user using a while loop?"
      ],
      "metadata": {
        "id": "OBBkZHb66QVv"
      }
    },
    {
      "cell_type": "code",
      "source": [
        "n = int(input(\"Enter any number: \"))\n",
        "f = 1\n",
        "while n >= 1:\n",
        "    f *= n\n",
        "    n -= 1\n",
        "print(\"Factorial is\", f)"
      ],
      "metadata": {
        "colab": {
          "base_uri": "https://localhost:8080/"
        },
        "id": "H9cZ8AfQ5ZZa",
        "outputId": "9d8abddc-f0ad-436c-8ca6-058c0aac8b7e"
      },
      "execution_count": 76,
      "outputs": [
        {
          "output_type": "stream",
          "name": "stdout",
          "text": [
            "Enter any number: 5\n",
            "Factorial is 120\n"
          ]
        }
      ]
    }
  ]
}