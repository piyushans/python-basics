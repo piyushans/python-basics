{
  "nbformat": 4,
  "nbformat_minor": 0,
  "metadata": {
    "colab": {
      "provenance": []
    },
    "kernelspec": {
      "name": "python3",
      "display_name": "Python 3"
    },
    "language_info": {
      "name": "python"
    }
  },
  "cells": [
    {
      "cell_type": "markdown",
      "source": [
        "1.  What are data structures, and why are they important?\n",
        "    - Data structures are a specific way of organizing data in a specialized format on a computer so that the information can be organized, processed,stored, and retrieved quickly and effectively. They are a means of handling information, rendering the data for easy use.\n",
        "\n"
      ],
      "metadata": {
        "id": "KgUoZ5T7pJVL"
      }
    },
    {
      "cell_type": "markdown",
      "source": [
        "2.  Explain the difference between mutable and immutable data types with examples?\n",
        "    - Data types in Python are categorized into mutable and immutable data types. Mutable data types are those whose values can be changed, whereas immutable data types are ones in which the values can’t be changed.\n",
        "\n",
        "      - Mutable Data types - List, Dictionaries and sets\n",
        "      - Immutable Data types - String and tuples"
      ],
      "metadata": {
        "id": "B_envjbKqIUL"
      }
    },
    {
      "cell_type": "markdown",
      "source": [
        "3. What are the main differences between lists and tuples in Python?\n",
        "   - Lists:\n",
        "     1. A list is a collection of ordered elements.\n",
        "     2. Lists maintain the order of the elements they contain.\n",
        "     3. Lists can be accessed by index.\n",
        "     4. Lists can be modified by adding or removing elements.\n",
        "     5. Lists can contain duplicate elements.\n",
        "\n",
        "   - Tuple:\n",
        "     1. A tuple is a sequence of elements separated by commas and enclosed in parentheses.\n",
        "     2. Tuples maintain the order of the elements they contain.\n",
        "     3. Tuples can be accessed by index.\n",
        "     4. Tuples cannot be modified by adding or removing elements.\n",
        "     5. Tuples can contain duplicate elements.\n",
        "\n",
        "\n",
        "\n"
      ],
      "metadata": {
        "id": "8CwjRu7wrGk3"
      }
    },
    {
      "cell_type": "markdown",
      "source": [
        "4. Describe how dictionaries store data?\n",
        "   - Dictionaries are used to store data values in key:value pairs. A dictionary is a collection which is ordered, changeable and do not allow duplicates."
      ],
      "metadata": {
        "id": "-sqml8owsAZ8"
      }
    },
    {
      "cell_type": "markdown",
      "source": [
        "5. Why might you use a set instead of a list in Python?\n",
        "  - It depends on the use case. If you don’t want the values in the data to change, you can use a set. But if you want the items to change, you can use a list. You can also take into account whether the order of the items matters to you or not."
      ],
      "metadata": {
        "id": "DciHtk8vsZbI"
      }
    },
    {
      "cell_type": "markdown",
      "source": [
        "6. What is a string in Python, and how is it different from a list?\n",
        "   - A string is a sequence of characters between single or double quotes. And a list is a sequence of items, where each item could be anything (an integer, a float, a string, etc).\n"
      ],
      "metadata": {
        "id": "fag1CdZptGt3"
      }
    },
    {
      "cell_type": "markdown",
      "source": [
        "7. How do tuples ensure data integrity in Python?\n",
        "   - Tuples are immutable to ensure that their contents remain constant throughout their lifecycle, guaranteeing data integrity and reliability."
      ],
      "metadata": {
        "id": "y4xKC3mOtcL8"
      }
    },
    {
      "cell_type": "markdown",
      "source": [
        "8. What is a hash table, and how does it relate to dictionaries in Python?\n",
        "   - A hash table is a data structure that allows you to store a collection of key-value pairs.In a hash table, the key of every key-value pair must be hashable, because the pairs stored are indexed by using the hash of their keys. Hash tables are very useful because the average number of instructions that are necessary to lookup an element of the table is independent of the number of elements stored in the table itself. That means that even if your table grows ten or ten thousand times, the overall speed to look up a specific element is not affected."
      ],
      "metadata": {
        "id": "cGOnF73PttZb"
      }
    },
    {
      "cell_type": "markdown",
      "source": [
        "9. Can lists contain different data types in Python?\n",
        "   -  Yes, a list can also contain a mix of Python types including strings, floats, and booleans.\n",
        "   "
      ],
      "metadata": {
        "id": "TEnYRMDPuUMZ"
      }
    },
    {
      "cell_type": "markdown",
      "source": [
        "10. Explain why strings are immutable in Python?\n",
        "    - Strings in Python are “immutable” which means they can not be changed after they are created. Strings are made immutable so that programmers cannot alter the contents of the object (even by mistake). This avoids unnecessary bugs."
      ],
      "metadata": {
        "id": "eNPkIJG2ukkR"
      }
    },
    {
      "cell_type": "markdown",
      "source": [
        "11. What advantages do dictionaries offer over lists for certain tasks?\n",
        "    - The major diffrence between lists and dictionaries is getting the elements from the list data structure is more complex when compared to dictionaries. So it is more efficient to use dictionaries for the searching of elements as it can be carried out in a much faster manner."
      ],
      "metadata": {
        "id": "Rwb8tq8RvVPI"
      }
    },
    {
      "cell_type": "markdown",
      "source": [
        "12. Describe a scenario where using a tuple would be preferable over a list?\n",
        "    - Use a tuple if you need an immutable collection where the elements won't change after creation. AADHAR card, PAN card are the details of a person which can be used in tuple. These details of a person are not changed.  "
      ],
      "metadata": {
        "id": "XTQCYF0Hv1cY"
      }
    },
    {
      "cell_type": "markdown",
      "source": [
        "13. How do sets handle duplicate values in Python?\n",
        "    - Items of a set in python are immutable (unchangeable), do not duplicate values, and unordered. Thus, items in a set do not appear in a stipulated manner, i.e., they can appear in a different order every time it is used. Due to this, set items cannot be referred to by key or index."
      ],
      "metadata": {
        "id": "5uysQDfzwiGB"
      }
    },
    {
      "cell_type": "markdown",
      "source": [
        "14. How does the “in” keyword work differently for lists and dictionaries?\n",
        "    - The in operator for lists just checks equality with every element of the list, which the in operator for sets first hashes the object you are looking for, checks for an object in that slot of the hashtable, and then checks for equality if there is anything in the slot."
      ],
      "metadata": {
        "id": "Ac2CQESHw3cA"
      }
    },
    {
      "cell_type": "markdown",
      "source": [
        "15. Can you modify the elements of a tuple? Explain why or why not?\n",
        "    - No, you cannot modify the elements of a tuple in Python because tuples are \"immutable,\" meaning once created, their contents cannot be changed. Attempting to alter an element will result in a TypeError error."
      ],
      "metadata": {
        "id": "1AZOq21uxSq6"
      }
    },
    {
      "cell_type": "markdown",
      "source": [
        "16. What is a nested dictionary, and give an example of its use case?\n",
        "    - A nested dictionary is a dictionary that's stored as a value within another dictionary. Nesting is useful because it allows you to model more complex information in programs."
      ],
      "metadata": {
        "id": "DO0PzoHpxk_3"
      }
    },
    {
      "cell_type": "markdown",
      "source": [
        "17. Describe the time complexity of accessing elements in a dictionary?\n",
        "    - The time complexity of accessing an element in a dictionary is O(1) on average. This means that the time it takes to retrieve an element is constant and doesn't depend on the size of the dictionary."
      ],
      "metadata": {
        "id": "d8CtkMLzxzEm"
      }
    },
    {
      "cell_type": "markdown",
      "source": [
        "18. In what situations are lists preferred over dictionaries?\n",
        "    - For quick data look-ups, configurations, or caches, favor dictionaries. For ordered collections and sequence operations, such as maintaining a stack or queue, lists are more suitable."
      ],
      "metadata": {
        "id": "gHv4OusYyDoe"
      }
    },
    {
      "cell_type": "markdown",
      "source": [
        "19. Why are dictionaries considered unordered, and how does that affect data retrieval?\n",
        "    - A dictionary is termed an unordered collection of objects because dictionaries do not maintain any inherent order of the items based on when they were added. This meant that when you accessed or printed the items, the order could vary, as dictionaries were optimized for fast lookups rather than maintaining order."
      ],
      "metadata": {
        "id": "OZoHHYm2yUZj"
      }
    },
    {
      "cell_type": "markdown",
      "source": [
        "20.  Explain the difference between a list and a dictionary in terms of data retrieval.\n",
        "     - A list is an ordered collection of items, whereas a dictionary is an unordered data collection in a key: value pair. Elements from the list can be accessed using the index, while the elements of the dictionary can be accessed using keys.\n"
      ],
      "metadata": {
        "id": "54pY-1Mty8Q_"
      }
    },
    {
      "cell_type": "markdown",
      "source": [
        "# Practical questions"
      ],
      "metadata": {
        "id": "yWz7tUHNzKDu"
      }
    },
    {
      "cell_type": "markdown",
      "source": [
        "1. Write a code to create a string with your name and print it?\n"
      ],
      "metadata": {
        "id": "LBfd8dTozPK0"
      }
    },
    {
      "cell_type": "code",
      "source": [
        "String = \"Piyush\"\n",
        "print(String)"
      ],
      "metadata": {
        "colab": {
          "base_uri": "https://localhost:8080/"
        },
        "id": "VsGPAJZ3zXCr",
        "outputId": "00120113-275b-40f4-985a-306cbf9db6eb"
      },
      "execution_count": 1,
      "outputs": [
        {
          "output_type": "stream",
          "name": "stdout",
          "text": [
            "Piyush\n"
          ]
        }
      ]
    },
    {
      "cell_type": "markdown",
      "source": [
        "2. Write a code to find the length of the string \"Hello World\"?"
      ],
      "metadata": {
        "id": "NfQDQoKczjkh"
      }
    },
    {
      "cell_type": "code",
      "execution_count": 2,
      "metadata": {
        "colab": {
          "base_uri": "https://localhost:8080/"
        },
        "id": "qR5NqpmWo6YK",
        "outputId": "90c05807-75cc-4d51-c358-f20d10ce8b1b"
      },
      "outputs": [
        {
          "output_type": "execute_result",
          "data": {
            "text/plain": [
              "11"
            ]
          },
          "metadata": {},
          "execution_count": 2
        }
      ],
      "source": [
        "len(\"Hello World\")"
      ]
    },
    {
      "cell_type": "markdown",
      "source": [
        "3. Write a code to slice the first 3 characters from the string \"Python Programming\"?"
      ],
      "metadata": {
        "id": "Ji3EFC5CpHKS"
      }
    },
    {
      "cell_type": "code",
      "source": [
        "String = \"Python Programming\"\n",
        "String [0:3]"
      ],
      "metadata": {
        "colab": {
          "base_uri": "https://localhost:8080/",
          "height": 35
        },
        "id": "M4FBjCt2z-Iu",
        "outputId": "3ea17981-115a-42fc-c865-d2f73f85a90e"
      },
      "execution_count": 5,
      "outputs": [
        {
          "output_type": "execute_result",
          "data": {
            "text/plain": [
              "'Pyt'"
            ],
            "application/vnd.google.colaboratory.intrinsic+json": {
              "type": "string"
            }
          },
          "metadata": {},
          "execution_count": 5
        }
      ]
    },
    {
      "cell_type": "markdown",
      "source": [
        "4. Write a code to convert the string \"hello\" to uppercase?"
      ],
      "metadata": {
        "id": "lb6muSCx0iEm"
      }
    },
    {
      "cell_type": "code",
      "source": [
        "text = \"hello\"\n",
        "text.upper()"
      ],
      "metadata": {
        "colab": {
          "base_uri": "https://localhost:8080/",
          "height": 35
        },
        "id": "DicjIzmq0tfv",
        "outputId": "284f5674-0cf1-4f9f-f1e9-32e58ec627e8"
      },
      "execution_count": 6,
      "outputs": [
        {
          "output_type": "execute_result",
          "data": {
            "text/plain": [
              "'HELLO'"
            ],
            "application/vnd.google.colaboratory.intrinsic+json": {
              "type": "string"
            }
          },
          "metadata": {},
          "execution_count": 6
        }
      ]
    },
    {
      "cell_type": "markdown",
      "source": [
        "5. Write a code to replace the word \"apple\" with \"orange\" in the string \"I like apple\"?"
      ],
      "metadata": {
        "id": "JWGwnyH_01mi"
      }
    },
    {
      "cell_type": "code",
      "source": [
        "sentence = \"I like apple\"\n",
        "sentence.replace(\"apple\", \"Orange\")"
      ],
      "metadata": {
        "colab": {
          "base_uri": "https://localhost:8080/",
          "height": 35
        },
        "id": "Ze9g35nK06cD",
        "outputId": "1943650a-8020-45ae-a1da-60035a01b8af"
      },
      "execution_count": 12,
      "outputs": [
        {
          "output_type": "execute_result",
          "data": {
            "text/plain": [
              "'I like Orange'"
            ],
            "application/vnd.google.colaboratory.intrinsic+json": {
              "type": "string"
            }
          },
          "metadata": {},
          "execution_count": 12
        }
      ]
    },
    {
      "cell_type": "markdown",
      "source": [
        "6. Write a code to create a list with numbers 1 to 5 and print it?"
      ],
      "metadata": {
        "id": "4CNiVdrE12pp"
      }
    },
    {
      "cell_type": "code",
      "source": [
        "lis = [1, 2, 3, 4, 5]\n",
        "print(lis)"
      ],
      "metadata": {
        "colab": {
          "base_uri": "https://localhost:8080/"
        },
        "id": "jFbH2ah9115k",
        "outputId": "71ac5d61-a31d-424c-dacc-aa99ed5d3b17"
      },
      "execution_count": 16,
      "outputs": [
        {
          "output_type": "stream",
          "name": "stdout",
          "text": [
            "[1, 2, 3, 4, 5]\n"
          ]
        }
      ]
    },
    {
      "cell_type": "markdown",
      "source": [
        "7. Write a code to append the number 10 to the list [1, 2, 3, 4]"
      ],
      "metadata": {
        "id": "lhAIG0S12MmP"
      }
    },
    {
      "cell_type": "code",
      "source": [
        "lis = [1, 2, 3, 4]\n",
        "lis.append(10)\n",
        "lis"
      ],
      "metadata": {
        "colab": {
          "base_uri": "https://localhost:8080/"
        },
        "id": "E7gXtgEm2VA9",
        "outputId": "bf0a5db6-1300-42ba-8d75-e48b9b2908a4"
      },
      "execution_count": 20,
      "outputs": [
        {
          "output_type": "execute_result",
          "data": {
            "text/plain": [
              "[1, 2, 3, 4, 10]"
            ]
          },
          "metadata": {},
          "execution_count": 20
        }
      ]
    },
    {
      "cell_type": "markdown",
      "source": [
        "8.  Write a code to remove the number 3 from the list [1, 2, 3, 4, 5]"
      ],
      "metadata": {
        "id": "8otQ-dS_2qq3"
      }
    },
    {
      "cell_type": "code",
      "source": [
        "lis = [1, 2, 3, 4, 5]\n",
        "lis.remove(3)\n",
        "lis"
      ],
      "metadata": {
        "colab": {
          "base_uri": "https://localhost:8080/"
        },
        "id": "Xy0hN7SS2vLI",
        "outputId": "121857ad-8cd8-4453-992e-d4a2477ce5a5"
      },
      "execution_count": 21,
      "outputs": [
        {
          "output_type": "execute_result",
          "data": {
            "text/plain": [
              "[1, 2, 4, 5]"
            ]
          },
          "metadata": {},
          "execution_count": 21
        }
      ]
    },
    {
      "cell_type": "markdown",
      "source": [
        "9. Write a code to access the second element in the list ['a', 'b', 'c', 'd']"
      ],
      "metadata": {
        "id": "9SwWh5OP24Ub"
      }
    },
    {
      "cell_type": "code",
      "source": [
        "lis = ['a', 'b', 'c', 'd']\n",
        "lis[1]"
      ],
      "metadata": {
        "colab": {
          "base_uri": "https://localhost:8080/",
          "height": 35
        },
        "id": "OEz-OOgS2-fj",
        "outputId": "9bdcd409-bc8a-4a2b-9e02-fafa250b526e"
      },
      "execution_count": 23,
      "outputs": [
        {
          "output_type": "execute_result",
          "data": {
            "text/plain": [
              "'b'"
            ],
            "application/vnd.google.colaboratory.intrinsic+json": {
              "type": "string"
            }
          },
          "metadata": {},
          "execution_count": 23
        }
      ]
    },
    {
      "cell_type": "markdown",
      "source": [
        "10. Write a code to reverse the list [10, 20, 30, 40, 50]."
      ],
      "metadata": {
        "id": "1Hbn-Zhr3LAQ"
      }
    },
    {
      "cell_type": "code",
      "source": [
        "lis = [10, 20, 30, 40, 50]\n",
        "lis[::-1]"
      ],
      "metadata": {
        "colab": {
          "base_uri": "https://localhost:8080/"
        },
        "id": "bi1953nU3O73",
        "outputId": "432698cd-12ba-46ea-d326-2635b3f879aa"
      },
      "execution_count": 24,
      "outputs": [
        {
          "output_type": "execute_result",
          "data": {
            "text/plain": [
              "[50, 40, 30, 20, 10]"
            ]
          },
          "metadata": {},
          "execution_count": 24
        }
      ]
    },
    {
      "cell_type": "markdown",
      "source": [
        "11. Write a code to create a tuple with the elements 10, 20, 30 and print it?"
      ],
      "metadata": {
        "id": "wk-E6J6i3dhb"
      }
    },
    {
      "cell_type": "code",
      "source": [
        "tupl = (10, 20, 30)\n",
        "print(tupl)"
      ],
      "metadata": {
        "colab": {
          "base_uri": "https://localhost:8080/"
        },
        "id": "j10TUbQX3iKP",
        "outputId": "a87e0614-c5db-42a2-9fc8-1f667f3c9393"
      },
      "execution_count": 29,
      "outputs": [
        {
          "output_type": "stream",
          "name": "stdout",
          "text": [
            "(10, 20, 30)\n"
          ]
        }
      ]
    },
    {
      "cell_type": "markdown",
      "source": [
        "12. Write a code to access the first element of the tuple ('apple', 'banana', 'cherry')."
      ],
      "metadata": {
        "id": "LlYqLJoA3zH5"
      }
    },
    {
      "cell_type": "code",
      "source": [
        "tupl = ('apple', 'banana', 'cherry')\n",
        "tupl[0]"
      ],
      "metadata": {
        "colab": {
          "base_uri": "https://localhost:8080/",
          "height": 35
        },
        "id": "DJD7LC-i38mH",
        "outputId": "609500f9-7147-4659-d970-4c6b3a876b93"
      },
      "execution_count": 30,
      "outputs": [
        {
          "output_type": "execute_result",
          "data": {
            "text/plain": [
              "'apple'"
            ],
            "application/vnd.google.colaboratory.intrinsic+json": {
              "type": "string"
            }
          },
          "metadata": {},
          "execution_count": 30
        }
      ]
    },
    {
      "cell_type": "markdown",
      "source": [
        "13. Write a code to count how many times the number 2 appears in the tuple (1, 2, 3, 2, 4, 2)."
      ],
      "metadata": {
        "id": "H2gNy9iR4FAW"
      }
    },
    {
      "cell_type": "code",
      "source": [
        "tupl = (1, 2, 3, 2, 4, 2)\n",
        "tupl.count(2)"
      ],
      "metadata": {
        "colab": {
          "base_uri": "https://localhost:8080/"
        },
        "id": "qVX8HI9j4K9F",
        "outputId": "8a0e83c4-cd52-4429-d945-6cb44de7b2f9"
      },
      "execution_count": 33,
      "outputs": [
        {
          "output_type": "execute_result",
          "data": {
            "text/plain": [
              "3"
            ]
          },
          "metadata": {},
          "execution_count": 33
        }
      ]
    },
    {
      "cell_type": "markdown",
      "source": [
        "14. Write a code to find the index of the element \"cat\" in the tuple ('dog', 'cat', 'rabbit')"
      ],
      "metadata": {
        "id": "lBzwv13841YE"
      }
    },
    {
      "cell_type": "code",
      "source": [
        "tupl = ('dog', 'cat', 'rabbit')\n",
        "tupl.index(\"cat\")"
      ],
      "metadata": {
        "colab": {
          "base_uri": "https://localhost:8080/"
        },
        "id": "m8lLiNOL4-aN",
        "outputId": "dcc45386-d3c9-4f3c-f55b-cc70830ab85e"
      },
      "execution_count": 35,
      "outputs": [
        {
          "output_type": "execute_result",
          "data": {
            "text/plain": [
              "1"
            ]
          },
          "metadata": {},
          "execution_count": 35
        }
      ]
    },
    {
      "cell_type": "markdown",
      "source": [
        "15. Write a code to check if the element \"banana\" is in the tuple ('apple', 'orange', 'banana')\n",
        "\n"
      ],
      "metadata": {
        "id": "NdH0jGfX5KAB"
      }
    },
    {
      "cell_type": "code",
      "source": [
        "tupl = ('apple', 'orange', 'banana')\n",
        "'banana' in tupl"
      ],
      "metadata": {
        "colab": {
          "base_uri": "https://localhost:8080/"
        },
        "id": "fSDggs0m5PjT",
        "outputId": "e71b879c-d3f9-4af2-b316-32a717e11be3"
      },
      "execution_count": 44,
      "outputs": [
        {
          "output_type": "execute_result",
          "data": {
            "text/plain": [
              "True"
            ]
          },
          "metadata": {},
          "execution_count": 44
        }
      ]
    },
    {
      "cell_type": "markdown",
      "source": [
        "16. Write a code to create a set with the elements 1, 2, 3, 4, 5 and print it."
      ],
      "metadata": {
        "id": "l9yVQiDV62PY"
      }
    },
    {
      "cell_type": "code",
      "source": [
        "se = {1, 2, 3, 4, 5}\n",
        "print(se)"
      ],
      "metadata": {
        "colab": {
          "base_uri": "https://localhost:8080/"
        },
        "id": "C8PVvD6y69T6",
        "outputId": "5fc8c712-fc5b-46cc-b8e4-e2550bd3be8c"
      },
      "execution_count": 47,
      "outputs": [
        {
          "output_type": "stream",
          "name": "stdout",
          "text": [
            "{1, 2, 3, 4, 5}\n"
          ]
        }
      ]
    },
    {
      "cell_type": "markdown",
      "source": [
        "17. Write a code to add the element 6 to the set {1, 2, 3, 4}."
      ],
      "metadata": {
        "id": "huRueDCn7GbO"
      }
    },
    {
      "cell_type": "code",
      "source": [
        "se = {1, 2, 3, 4}\n",
        "se.add(6)\n",
        "se"
      ],
      "metadata": {
        "colab": {
          "base_uri": "https://localhost:8080/"
        },
        "id": "auN7GOma7LUO",
        "outputId": "9950bd2d-ce40-45f9-c2a9-8508198b13c4"
      },
      "execution_count": 48,
      "outputs": [
        {
          "output_type": "execute_result",
          "data": {
            "text/plain": [
              "{1, 2, 3, 4, 6}"
            ]
          },
          "metadata": {},
          "execution_count": 48
        }
      ]
    },
    {
      "cell_type": "markdown",
      "source": [
        "# Repeated Questions:\n",
        "18. Write a code to create a tuple with the elements 10, 20, 30 and print it.\n",
        "\n",
        "19. Write a code to access the first element of the tuple ('apple', 'banana', 'cherry').\n",
        "\n",
        "20. Write a code to count how many times the number 2 appears in the tuple (1, 2, 3, 2, 4, 2).\n",
        "\n",
        "21. Write a code to find the index of the element \"cat\" in the tuple ('dog', 'cat', 'rabbit').\n",
        "\n",
        "22. Write a code to check if the element \"banana\" is in the tuple ('apple', 'orange', 'banana').\n",
        "\n",
        "23. Write a code to create a set with the elements 1, 2, 3, 4, 5 and print it.\n",
        "\n",
        "24. Write a code to add the element 6 to the set {1, 2, 3, 4}."
      ],
      "metadata": {
        "id": "TTIHQJ7p7SI6"
      }
    }
  ]
}